{
  "nbformat": 4,
  "nbformat_minor": 0,
  "metadata": {
    "colab": {
      "provenance": []
    },
    "kernelspec": {
      "name": "python3",
      "display_name": "Python 3"
    },
    "language_info": {
      "name": "python"
    }
  },
  "cells": [
    {
      "cell_type": "code",
      "execution_count": 30,
      "metadata": {
        "colab": {
          "base_uri": "https://localhost:8080/"
        },
        "id": "Id0varItBrEw",
        "outputId": "fe666b85-4b83-4beb-9f77-b192f25baa0a"
      },
      "outputs": [
        {
          "output_type": "stream",
          "name": "stdout",
          "text": [
            "Looking in indexes: https://pypi.org/simple, https://us-python.pkg.dev/colab-wheels/public/simple/\n",
            "Requirement already satisfied: yfinance in /usr/local/lib/python3.7/dist-packages (0.1.87)\n",
            "Requirement already satisfied: numpy>=1.15 in /usr/local/lib/python3.7/dist-packages (from yfinance) (1.21.6)\n",
            "Requirement already satisfied: appdirs>=1.4.4 in /usr/local/lib/python3.7/dist-packages (from yfinance) (1.4.4)\n",
            "Requirement already satisfied: multitasking>=0.0.7 in /usr/local/lib/python3.7/dist-packages (from yfinance) (0.0.11)\n",
            "Requirement already satisfied: lxml>=4.5.1 in /usr/local/lib/python3.7/dist-packages (from yfinance) (4.9.1)\n",
            "Requirement already satisfied: pandas>=0.24.0 in /usr/local/lib/python3.7/dist-packages (from yfinance) (1.3.5)\n",
            "Requirement already satisfied: requests>=2.26 in /usr/local/lib/python3.7/dist-packages (from yfinance) (2.28.1)\n",
            "Requirement already satisfied: python-dateutil>=2.7.3 in /usr/local/lib/python3.7/dist-packages (from pandas>=0.24.0->yfinance) (2.8.2)\n",
            "Requirement already satisfied: pytz>=2017.3 in /usr/local/lib/python3.7/dist-packages (from pandas>=0.24.0->yfinance) (2022.6)\n",
            "Requirement already satisfied: six>=1.5 in /usr/local/lib/python3.7/dist-packages (from python-dateutil>=2.7.3->pandas>=0.24.0->yfinance) (1.15.0)\n",
            "Requirement already satisfied: charset-normalizer<3,>=2 in /usr/local/lib/python3.7/dist-packages (from requests>=2.26->yfinance) (2.1.1)\n",
            "Requirement already satisfied: certifi>=2017.4.17 in /usr/local/lib/python3.7/dist-packages (from requests>=2.26->yfinance) (2022.9.24)\n",
            "Requirement already satisfied: idna<4,>=2.5 in /usr/local/lib/python3.7/dist-packages (from requests>=2.26->yfinance) (2.10)\n",
            "Requirement already satisfied: urllib3<1.27,>=1.21.1 in /usr/local/lib/python3.7/dist-packages (from requests>=2.26->yfinance) (1.24.3)\n"
          ]
        }
      ],
      "source": [
        "!pip install yfinance"
      ]
    },
    {
      "cell_type": "code",
      "source": [
        "import yfinance as yf\n",
        "apple = yf.Ticker('AAPL')\n",
        "\n",
        "apple.actions\n",
        "\n",
        "hist=apple.history(period=\"1y\")\n",
        "hist=hist.reset_index()\n",
        "hist.head()"
      ],
      "metadata": {
        "colab": {
          "base_uri": "https://localhost:8080/",
          "height": 206
        },
        "id": "ompslopIB6n2",
        "outputId": "c9180ca7-703d-4181-e999-a84e28303bcb"
      },
      "execution_count": 31,
      "outputs": [
        {
          "output_type": "execute_result",
          "data": {
            "text/plain": [
              "                       Date        Open        High         Low       Close  \\\n",
              "0 2021-11-26 00:00:00-05:00  158.649250  159.524162  155.457766  155.905167   \n",
              "1 2021-11-29 00:00:00-05:00  158.450394  160.259899  157.873739  159.315384   \n",
              "2 2021-11-30 00:00:00-05:00  159.066819  164.564908  158.997215  164.346176   \n",
              "3 2021-12-01 00:00:00-05:00  166.513583  169.317318  163.580609  163.819229   \n",
              "4 2021-12-02 00:00:00-05:00  157.824041  163.252527  156.889462  162.815063   \n",
              "\n",
              "      Volume  Dividends  Stock Splits  \n",
              "0   76959800        0.0             0  \n",
              "1   88748200        0.0             0  \n",
              "2  174048100        0.0             0  \n",
              "3  152052500        0.0             0  \n",
              "4  136739200        0.0             0  "
            ],
            "text/html": [
              "\n",
              "  <div id=\"df-c6f8bb6c-d8a9-4a53-a553-37a5a17f1012\">\n",
              "    <div class=\"colab-df-container\">\n",
              "      <div>\n",
              "<style scoped>\n",
              "    .dataframe tbody tr th:only-of-type {\n",
              "        vertical-align: middle;\n",
              "    }\n",
              "\n",
              "    .dataframe tbody tr th {\n",
              "        vertical-align: top;\n",
              "    }\n",
              "\n",
              "    .dataframe thead th {\n",
              "        text-align: right;\n",
              "    }\n",
              "</style>\n",
              "<table border=\"1\" class=\"dataframe\">\n",
              "  <thead>\n",
              "    <tr style=\"text-align: right;\">\n",
              "      <th></th>\n",
              "      <th>Date</th>\n",
              "      <th>Open</th>\n",
              "      <th>High</th>\n",
              "      <th>Low</th>\n",
              "      <th>Close</th>\n",
              "      <th>Volume</th>\n",
              "      <th>Dividends</th>\n",
              "      <th>Stock Splits</th>\n",
              "    </tr>\n",
              "  </thead>\n",
              "  <tbody>\n",
              "    <tr>\n",
              "      <th>0</th>\n",
              "      <td>2021-11-26 00:00:00-05:00</td>\n",
              "      <td>158.649250</td>\n",
              "      <td>159.524162</td>\n",
              "      <td>155.457766</td>\n",
              "      <td>155.905167</td>\n",
              "      <td>76959800</td>\n",
              "      <td>0.0</td>\n",
              "      <td>0</td>\n",
              "    </tr>\n",
              "    <tr>\n",
              "      <th>1</th>\n",
              "      <td>2021-11-29 00:00:00-05:00</td>\n",
              "      <td>158.450394</td>\n",
              "      <td>160.259899</td>\n",
              "      <td>157.873739</td>\n",
              "      <td>159.315384</td>\n",
              "      <td>88748200</td>\n",
              "      <td>0.0</td>\n",
              "      <td>0</td>\n",
              "    </tr>\n",
              "    <tr>\n",
              "      <th>2</th>\n",
              "      <td>2021-11-30 00:00:00-05:00</td>\n",
              "      <td>159.066819</td>\n",
              "      <td>164.564908</td>\n",
              "      <td>158.997215</td>\n",
              "      <td>164.346176</td>\n",
              "      <td>174048100</td>\n",
              "      <td>0.0</td>\n",
              "      <td>0</td>\n",
              "    </tr>\n",
              "    <tr>\n",
              "      <th>3</th>\n",
              "      <td>2021-12-01 00:00:00-05:00</td>\n",
              "      <td>166.513583</td>\n",
              "      <td>169.317318</td>\n",
              "      <td>163.580609</td>\n",
              "      <td>163.819229</td>\n",
              "      <td>152052500</td>\n",
              "      <td>0.0</td>\n",
              "      <td>0</td>\n",
              "    </tr>\n",
              "    <tr>\n",
              "      <th>4</th>\n",
              "      <td>2021-12-02 00:00:00-05:00</td>\n",
              "      <td>157.824041</td>\n",
              "      <td>163.252527</td>\n",
              "      <td>156.889462</td>\n",
              "      <td>162.815063</td>\n",
              "      <td>136739200</td>\n",
              "      <td>0.0</td>\n",
              "      <td>0</td>\n",
              "    </tr>\n",
              "  </tbody>\n",
              "</table>\n",
              "</div>\n",
              "      <button class=\"colab-df-convert\" onclick=\"convertToInteractive('df-c6f8bb6c-d8a9-4a53-a553-37a5a17f1012')\"\n",
              "              title=\"Convert this dataframe to an interactive table.\"\n",
              "              style=\"display:none;\">\n",
              "        \n",
              "  <svg xmlns=\"http://www.w3.org/2000/svg\" height=\"24px\"viewBox=\"0 0 24 24\"\n",
              "       width=\"24px\">\n",
              "    <path d=\"M0 0h24v24H0V0z\" fill=\"none\"/>\n",
              "    <path d=\"M18.56 5.44l.94 2.06.94-2.06 2.06-.94-2.06-.94-.94-2.06-.94 2.06-2.06.94zm-11 1L8.5 8.5l.94-2.06 2.06-.94-2.06-.94L8.5 2.5l-.94 2.06-2.06.94zm10 10l.94 2.06.94-2.06 2.06-.94-2.06-.94-.94-2.06-.94 2.06-2.06.94z\"/><path d=\"M17.41 7.96l-1.37-1.37c-.4-.4-.92-.59-1.43-.59-.52 0-1.04.2-1.43.59L10.3 9.45l-7.72 7.72c-.78.78-.78 2.05 0 2.83L4 21.41c.39.39.9.59 1.41.59.51 0 1.02-.2 1.41-.59l7.78-7.78 2.81-2.81c.8-.78.8-2.07 0-2.86zM5.41 20L4 18.59l7.72-7.72 1.47 1.35L5.41 20z\"/>\n",
              "  </svg>\n",
              "      </button>\n",
              "      \n",
              "  <style>\n",
              "    .colab-df-container {\n",
              "      display:flex;\n",
              "      flex-wrap:wrap;\n",
              "      gap: 12px;\n",
              "    }\n",
              "\n",
              "    .colab-df-convert {\n",
              "      background-color: #E8F0FE;\n",
              "      border: none;\n",
              "      border-radius: 50%;\n",
              "      cursor: pointer;\n",
              "      display: none;\n",
              "      fill: #1967D2;\n",
              "      height: 32px;\n",
              "      padding: 0 0 0 0;\n",
              "      width: 32px;\n",
              "    }\n",
              "\n",
              "    .colab-df-convert:hover {\n",
              "      background-color: #E2EBFA;\n",
              "      box-shadow: 0px 1px 2px rgba(60, 64, 67, 0.3), 0px 1px 3px 1px rgba(60, 64, 67, 0.15);\n",
              "      fill: #174EA6;\n",
              "    }\n",
              "\n",
              "    [theme=dark] .colab-df-convert {\n",
              "      background-color: #3B4455;\n",
              "      fill: #D2E3FC;\n",
              "    }\n",
              "\n",
              "    [theme=dark] .colab-df-convert:hover {\n",
              "      background-color: #434B5C;\n",
              "      box-shadow: 0px 1px 3px 1px rgba(0, 0, 0, 0.15);\n",
              "      filter: drop-shadow(0px 1px 2px rgba(0, 0, 0, 0.3));\n",
              "      fill: #FFFFFF;\n",
              "    }\n",
              "  </style>\n",
              "\n",
              "      <script>\n",
              "        const buttonEl =\n",
              "          document.querySelector('#df-c6f8bb6c-d8a9-4a53-a553-37a5a17f1012 button.colab-df-convert');\n",
              "        buttonEl.style.display =\n",
              "          google.colab.kernel.accessAllowed ? 'block' : 'none';\n",
              "\n",
              "        async function convertToInteractive(key) {\n",
              "          const element = document.querySelector('#df-c6f8bb6c-d8a9-4a53-a553-37a5a17f1012');\n",
              "          const dataTable =\n",
              "            await google.colab.kernel.invokeFunction('convertToInteractive',\n",
              "                                                     [key], {});\n",
              "          if (!dataTable) return;\n",
              "\n",
              "          const docLinkHtml = 'Like what you see? Visit the ' +\n",
              "            '<a target=\"_blank\" href=https://colab.research.google.com/notebooks/data_table.ipynb>data table notebook</a>'\n",
              "            + ' to learn more about interactive tables.';\n",
              "          element.innerHTML = '';\n",
              "          dataTable['output_type'] = 'display_data';\n",
              "          await google.colab.output.renderOutput(dataTable, element);\n",
              "          const docLink = document.createElement('div');\n",
              "          docLink.innerHTML = docLinkHtml;\n",
              "          element.appendChild(docLink);\n",
              "        }\n",
              "      </script>\n",
              "    </div>\n",
              "  </div>\n",
              "  "
            ]
          },
          "metadata": {},
          "execution_count": 31
        }
      ]
    },
    {
      "cell_type": "code",
      "source": [
        "hist[[\"Close\",\"Volume\",\"Date\"]]"
      ],
      "metadata": {
        "colab": {
          "base_uri": "https://localhost:8080/",
          "height": 423
        },
        "id": "komTLD10ClBO",
        "outputId": "6f726f5a-3089-47b8-e7c1-50b7af3bd981"
      },
      "execution_count": 32,
      "outputs": [
        {
          "output_type": "execute_result",
          "data": {
            "text/plain": [
              "          Close     Volume                      Date\n",
              "0    155.905167   76959800 2021-11-26 00:00:00-05:00\n",
              "1    159.315384   88748200 2021-11-29 00:00:00-05:00\n",
              "2    164.346176  174048100 2021-11-30 00:00:00-05:00\n",
              "3    163.819229  152052500 2021-12-01 00:00:00-05:00\n",
              "4    162.815063  136739200 2021-12-02 00:00:00-05:00\n",
              "..          ...        ...                       ...\n",
              "247  151.289993   74794600 2022-11-18 00:00:00-05:00\n",
              "248  148.009995   58724100 2022-11-21 00:00:00-05:00\n",
              "249  150.179993   51804100 2022-11-22 00:00:00-05:00\n",
              "250  151.070007   58301400 2022-11-23 00:00:00-05:00\n",
              "251  148.110001   35195900 2022-11-25 00:00:00-05:00\n",
              "\n",
              "[252 rows x 3 columns]"
            ],
            "text/html": [
              "\n",
              "  <div id=\"df-c9a69d13-c3b8-41fd-94a9-634901712247\">\n",
              "    <div class=\"colab-df-container\">\n",
              "      <div>\n",
              "<style scoped>\n",
              "    .dataframe tbody tr th:only-of-type {\n",
              "        vertical-align: middle;\n",
              "    }\n",
              "\n",
              "    .dataframe tbody tr th {\n",
              "        vertical-align: top;\n",
              "    }\n",
              "\n",
              "    .dataframe thead th {\n",
              "        text-align: right;\n",
              "    }\n",
              "</style>\n",
              "<table border=\"1\" class=\"dataframe\">\n",
              "  <thead>\n",
              "    <tr style=\"text-align: right;\">\n",
              "      <th></th>\n",
              "      <th>Close</th>\n",
              "      <th>Volume</th>\n",
              "      <th>Date</th>\n",
              "    </tr>\n",
              "  </thead>\n",
              "  <tbody>\n",
              "    <tr>\n",
              "      <th>0</th>\n",
              "      <td>155.905167</td>\n",
              "      <td>76959800</td>\n",
              "      <td>2021-11-26 00:00:00-05:00</td>\n",
              "    </tr>\n",
              "    <tr>\n",
              "      <th>1</th>\n",
              "      <td>159.315384</td>\n",
              "      <td>88748200</td>\n",
              "      <td>2021-11-29 00:00:00-05:00</td>\n",
              "    </tr>\n",
              "    <tr>\n",
              "      <th>2</th>\n",
              "      <td>164.346176</td>\n",
              "      <td>174048100</td>\n",
              "      <td>2021-11-30 00:00:00-05:00</td>\n",
              "    </tr>\n",
              "    <tr>\n",
              "      <th>3</th>\n",
              "      <td>163.819229</td>\n",
              "      <td>152052500</td>\n",
              "      <td>2021-12-01 00:00:00-05:00</td>\n",
              "    </tr>\n",
              "    <tr>\n",
              "      <th>4</th>\n",
              "      <td>162.815063</td>\n",
              "      <td>136739200</td>\n",
              "      <td>2021-12-02 00:00:00-05:00</td>\n",
              "    </tr>\n",
              "    <tr>\n",
              "      <th>...</th>\n",
              "      <td>...</td>\n",
              "      <td>...</td>\n",
              "      <td>...</td>\n",
              "    </tr>\n",
              "    <tr>\n",
              "      <th>247</th>\n",
              "      <td>151.289993</td>\n",
              "      <td>74794600</td>\n",
              "      <td>2022-11-18 00:00:00-05:00</td>\n",
              "    </tr>\n",
              "    <tr>\n",
              "      <th>248</th>\n",
              "      <td>148.009995</td>\n",
              "      <td>58724100</td>\n",
              "      <td>2022-11-21 00:00:00-05:00</td>\n",
              "    </tr>\n",
              "    <tr>\n",
              "      <th>249</th>\n",
              "      <td>150.179993</td>\n",
              "      <td>51804100</td>\n",
              "      <td>2022-11-22 00:00:00-05:00</td>\n",
              "    </tr>\n",
              "    <tr>\n",
              "      <th>250</th>\n",
              "      <td>151.070007</td>\n",
              "      <td>58301400</td>\n",
              "      <td>2022-11-23 00:00:00-05:00</td>\n",
              "    </tr>\n",
              "    <tr>\n",
              "      <th>251</th>\n",
              "      <td>148.110001</td>\n",
              "      <td>35195900</td>\n",
              "      <td>2022-11-25 00:00:00-05:00</td>\n",
              "    </tr>\n",
              "  </tbody>\n",
              "</table>\n",
              "<p>252 rows × 3 columns</p>\n",
              "</div>\n",
              "      <button class=\"colab-df-convert\" onclick=\"convertToInteractive('df-c9a69d13-c3b8-41fd-94a9-634901712247')\"\n",
              "              title=\"Convert this dataframe to an interactive table.\"\n",
              "              style=\"display:none;\">\n",
              "        \n",
              "  <svg xmlns=\"http://www.w3.org/2000/svg\" height=\"24px\"viewBox=\"0 0 24 24\"\n",
              "       width=\"24px\">\n",
              "    <path d=\"M0 0h24v24H0V0z\" fill=\"none\"/>\n",
              "    <path d=\"M18.56 5.44l.94 2.06.94-2.06 2.06-.94-2.06-.94-.94-2.06-.94 2.06-2.06.94zm-11 1L8.5 8.5l.94-2.06 2.06-.94-2.06-.94L8.5 2.5l-.94 2.06-2.06.94zm10 10l.94 2.06.94-2.06 2.06-.94-2.06-.94-.94-2.06-.94 2.06-2.06.94z\"/><path d=\"M17.41 7.96l-1.37-1.37c-.4-.4-.92-.59-1.43-.59-.52 0-1.04.2-1.43.59L10.3 9.45l-7.72 7.72c-.78.78-.78 2.05 0 2.83L4 21.41c.39.39.9.59 1.41.59.51 0 1.02-.2 1.41-.59l7.78-7.78 2.81-2.81c.8-.78.8-2.07 0-2.86zM5.41 20L4 18.59l7.72-7.72 1.47 1.35L5.41 20z\"/>\n",
              "  </svg>\n",
              "      </button>\n",
              "      \n",
              "  <style>\n",
              "    .colab-df-container {\n",
              "      display:flex;\n",
              "      flex-wrap:wrap;\n",
              "      gap: 12px;\n",
              "    }\n",
              "\n",
              "    .colab-df-convert {\n",
              "      background-color: #E8F0FE;\n",
              "      border: none;\n",
              "      border-radius: 50%;\n",
              "      cursor: pointer;\n",
              "      display: none;\n",
              "      fill: #1967D2;\n",
              "      height: 32px;\n",
              "      padding: 0 0 0 0;\n",
              "      width: 32px;\n",
              "    }\n",
              "\n",
              "    .colab-df-convert:hover {\n",
              "      background-color: #E2EBFA;\n",
              "      box-shadow: 0px 1px 2px rgba(60, 64, 67, 0.3), 0px 1px 3px 1px rgba(60, 64, 67, 0.15);\n",
              "      fill: #174EA6;\n",
              "    }\n",
              "\n",
              "    [theme=dark] .colab-df-convert {\n",
              "      background-color: #3B4455;\n",
              "      fill: #D2E3FC;\n",
              "    }\n",
              "\n",
              "    [theme=dark] .colab-df-convert:hover {\n",
              "      background-color: #434B5C;\n",
              "      box-shadow: 0px 1px 3px 1px rgba(0, 0, 0, 0.15);\n",
              "      filter: drop-shadow(0px 1px 2px rgba(0, 0, 0, 0.3));\n",
              "      fill: #FFFFFF;\n",
              "    }\n",
              "  </style>\n",
              "\n",
              "      <script>\n",
              "        const buttonEl =\n",
              "          document.querySelector('#df-c9a69d13-c3b8-41fd-94a9-634901712247 button.colab-df-convert');\n",
              "        buttonEl.style.display =\n",
              "          google.colab.kernel.accessAllowed ? 'block' : 'none';\n",
              "\n",
              "        async function convertToInteractive(key) {\n",
              "          const element = document.querySelector('#df-c9a69d13-c3b8-41fd-94a9-634901712247');\n",
              "          const dataTable =\n",
              "            await google.colab.kernel.invokeFunction('convertToInteractive',\n",
              "                                                     [key], {});\n",
              "          if (!dataTable) return;\n",
              "\n",
              "          const docLinkHtml = 'Like what you see? Visit the ' +\n",
              "            '<a target=\"_blank\" href=https://colab.research.google.com/notebooks/data_table.ipynb>data table notebook</a>'\n",
              "            + ' to learn more about interactive tables.';\n",
              "          element.innerHTML = '';\n",
              "          dataTable['output_type'] = 'display_data';\n",
              "          await google.colab.output.renderOutput(dataTable, element);\n",
              "          const docLink = document.createElement('div');\n",
              "          docLink.innerHTML = docLinkHtml;\n",
              "          element.appendChild(docLink);\n",
              "        }\n",
              "      </script>\n",
              "    </div>\n",
              "  </div>\n",
              "  "
            ]
          },
          "metadata": {},
          "execution_count": 32
        }
      ]
    },
    {
      "cell_type": "code",
      "source": [
        "import matplotlib.pyplot as plt\n",
        "plt.plot(hist[[\"Volume\"]].iloc[:, 0])"
      ],
      "metadata": {
        "colab": {
          "base_uri": "https://localhost:8080/",
          "height": 293
        },
        "id": "7qtkIhROxHfU",
        "outputId": "51bce22d-2e83-4f64-cf15-1377a66a848c"
      },
      "execution_count": 33,
      "outputs": [
        {
          "output_type": "execute_result",
          "data": {
            "text/plain": [
              "[<matplotlib.lines.Line2D at 0x7ff452999590>]"
            ]
          },
          "metadata": {},
          "execution_count": 33
        },
        {
          "output_type": "display_data",
          "data": {
            "text/plain": [
              "<Figure size 432x288 with 1 Axes>"
            ],
            "image/png": "[encoded data removed]"
          },
          "metadata": {
            "needs_background": "light"
          }
        }
      ]
    },
    {
      "cell_type": "code",
      "source": [
        "amt = hist[[\"Volume\"]].iloc[:, 0]\n",
        "amt.describe().astype('int')\n"
      ],
      "metadata": {
        "colab": {
          "base_uri": "https://localhost:8080/"
        },
        "id": "UrZXwaPbx9qn",
        "outputId": "f5c0532c-1cf5-4723-8298-7ab5f9d064e6"
      },
      "execution_count": 34,
      "outputs": [
        {
          "output_type": "execute_result",
          "data": {
            "text/plain": [
              "count          252\n",
              "mean      90911493\n",
              "std       26207164\n",
              "min       35195900\n",
              "25%       73407350\n",
              "50%       86381250\n",
              "75%      102487475\n",
              "max      195432700\n",
              "Name: Volume, dtype: int64"
            ]
          },
          "metadata": {},
          "execution_count": 34
        }
      ]
    },
    {
      "cell_type": "code",
      "source": [
        "import pandas as pd\n",
        "import numpy as np\n",
        "\n",
        "k = []\n",
        "df = []\n",
        "k_max = []\n",
        "\n",
        "V0=hist[\"Volume\"].mean()*(len(hist)/4) #用平均交易量的一季累計來當預設\n",
        "print(V0) #V0的預設值\n",
        "data = hist[[\"Close\",\"Volume\",\"Date\"]]\n",
        "v=0\n",
        "a=0\n",
        "b=0\n",
        "c=0\n",
        "\n",
        "for i in range(0, data.shape[0]):\n",
        "  v=0\n",
        "  for j in range(i,0-1,-1):\n",
        "    if(v < V0):\n",
        "      a=a+1\n",
        "      v=v+data.iloc[j, 1]\n",
        "      df.append([data.iloc[i, 0]-data.iloc[j, 0],i,j,v])\n",
        "      k.append(data.iloc[i, 0]-data.iloc[j, 0])\n",
        "    else:\n",
        "      break;\n",
        "  #計算 delta_Pn\n",
        "  df1=np.asarray(df)\n",
        "  if (df1.shape[0]==0):\n",
        "    c = np.max(df1[b:a])\n",
        "  else:  \n",
        "    c = np.max(df1[b:a,0])\n",
        "  k_max.append(c)\n",
        "  b=a\n",
        "  \n",
        "df = np.asarray(df)\n",
        "m = np.argmax(k)\n",
        "print(pd.DataFrame(df)) #每一筆交易的價差與累計交易量\n",
        "print(max(k))  #最大價差\n",
        "print(df[m,1:].astype(int)) #最大價差的交易時期與累計交易量"
      ],
      "metadata": {
        "colab": {
          "base_uri": "https://localhost:8080/"
        },
        "id": "hA0wFUg8CwLL",
        "outputId": "6bf5bc0a-96e0-4c9f-9fdb-1f00d6f15f02"
      },
      "execution_count": 35,
      "outputs": [
        {
          "output_type": "stream",
          "name": "stdout",
          "text": [
            "5727424100.0\n",
            "               0      1      2             3\n",
            "0       0.000000    0.0    0.0  7.695980e+07\n",
            "1       0.000000    1.0    1.0  8.874820e+07\n",
            "2       3.410217    1.0    0.0  1.657080e+08\n",
            "3       0.000000    2.0    2.0  1.740481e+08\n",
            "4       5.030792    2.0    1.0  2.627963e+08\n",
            "...          ...    ...    ...           ...\n",
            "14317  -9.588409  251.0  192.0  5.413110e+09\n",
            "14318  -8.849625  251.0  191.0  5.501102e+09\n",
            "14319 -10.536835  251.0  190.0  5.579008e+09\n",
            "14320 -13.002747  251.0  189.0  5.652322e+09\n",
            "14321 -15.239014  251.0  188.0  5.731283e+09\n",
            "\n",
            "[14322 rows x 4 columns]\n",
            "44.596435546875\n",
            "[       181        139 3139425400]\n"
          ]
        }
      ]
    },
    {
      "cell_type": "markdown",
      "source": [
        "![Screen Shot 2022-11-9 at 下午 06.51.png](data:image/png;base64,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)"
      ],
      "metadata": {
        "id": "o7G02A5bBAhS"
      }
    },
    {
      "cell_type": "code",
      "source": [
        "k_max = np.asarray(k_max) \n",
        "print(pd.DataFrame(k_max))  #delta_Pn = 0～251的所有最大價差"
      ],
      "metadata": {
        "colab": {
          "base_uri": "https://localhost:8080/"
        },
        "id": "mV4tI_IS5i7l",
        "outputId": "4edf7a2b-1007-46b4-abb1-9c87f79bb13b"
      },
      "execution_count": 36,
      "outputs": [
        {
          "output_type": "stream",
          "name": "stdout",
          "text": [
            "             0\n",
            "0     0.000000\n",
            "1     3.410217\n",
            "2     8.441010\n",
            "3     7.914062\n",
            "4     6.909897\n",
            "..         ...\n",
            "247  16.419998\n",
            "248  13.139999\n",
            "249  15.309998\n",
            "250  16.200012\n",
            "251  13.240005\n",
            "\n",
            "[252 rows x 1 columns]\n"
          ]
        }
      ]
    },
    {
      "cell_type": "code",
      "source": [
        "a = df[m,1].astype(int)\n",
        "b = df[m,2].astype(int)\n",
        "print(data.iloc[a,2]) #最大價差出售日期\n",
        "print(data.iloc[b,2]) #最大價差購買日期"
      ],
      "metadata": {
        "colab": {
          "base_uri": "https://localhost:8080/"
        },
        "id": "ikUr8VCIQYMh",
        "outputId": "4016b3ad-876f-4fcf-d354-0b2da5e2cd98"
      },
      "execution_count": 37,
      "outputs": [
        {
          "output_type": "stream",
          "name": "stdout",
          "text": [
            "2022-08-17 00:00:00-04:00\n",
            "2022-06-16 00:00:00-04:00\n"
          ]
        }
      ]
    },
    {
      "cell_type": "code",
      "source": [
        "plt.plot(k_max) #delta_Pn的趨勢圖"
      ],
      "metadata": {
        "colab": {
          "base_uri": "https://localhost:8080/",
          "height": 282
        },
        "id": "BjcUYuJ1K7sC",
        "outputId": "462d0616-6ede-4907-c444-fe2ab458ad7c"
      },
      "execution_count": 38,
      "outputs": [
        {
          "output_type": "execute_result",
          "data": {
            "text/plain": [
              "[<matplotlib.lines.Line2D at 0x7ff44f5f2bd0>]"
            ]
          },
          "metadata": {},
          "execution_count": 38
        },
        {
          "output_type": "display_data",
          "data": {
            "text/plain": [
              "<Figure size 432x288 with 1 Axes>"
            ],
            "image/png": "[encoded data removed]"
          },
          "metadata": {
            "needs_background": "light"
          }
        }
      ]
    },
    {
      "cell_type": "markdown",
      "source": [
        "![Screen Shot 2022-11-9 at 下午 06.53.png](data:image/png;base64,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)"
      ],
      "metadata": {
        "id": "OYKrtN7GBUyv"
      }
    },
    {
      "cell_type": "code",
      "source": [
        "def Y(Data):\n",
        "  df_dp = pd.DataFrame(Data)\n",
        "  m = float(df_dp.mean())\n",
        "  se = float(df_dp.std() / len(hist)**0.5)\n",
        "\n",
        "  return (m-1.96*se)\n",
        "\n",
        "Y(Data = df[:,3].round(2))  #Qa(x)"
      ],
      "metadata": {
        "colab": {
          "base_uri": "https://localhost:8080/"
        },
        "id": "c5SABskREixe",
        "outputId": "9b9aa6d2-8842-42f2-f580-99859a1d38dd"
      },
      "execution_count": 39,
      "outputs": [
        {
          "output_type": "execute_result",
          "data": {
            "text/plain": [
              "2591085570.1456304"
            ]
          },
          "metadata": {},
          "execution_count": 39
        }
      ]
    }
  ]
}
