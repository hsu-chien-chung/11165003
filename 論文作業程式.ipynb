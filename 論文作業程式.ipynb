{
  "nbformat": 4,
  "nbformat_minor": 0,
  "metadata": {
    "colab": {
      "provenance": []
    },
    "kernelspec": {
      "name": "python3",
      "display_name": "Python 3"
    },
    "language_info": {
      "name": "python"
    }
  },
  "cells": [
    {
      "cell_type": "code",
      "execution_count": 131,
      "metadata": {
        "colab": {
          "base_uri": "https://localhost:8080/"
        },
        "id": "Id0varItBrEw",
        "outputId": "7c1eea13-9d3a-4f71-ea03-a0dadd25fe5c"
      },
      "outputs": [
        {
          "output_type": "stream",
          "name": "stdout",
          "text": [
            "Looking in indexes: https://pypi.org/simple, https://us-python.pkg.dev/colab-wheels/public/simple/\n",
            "Requirement already satisfied: yfinance in /usr/local/lib/python3.7/dist-packages (0.1.87)\n",
            "Requirement already satisfied: requests>=2.26 in /usr/local/lib/python3.7/dist-packages (from yfinance) (2.28.1)\n",
            "Requirement already satisfied: pandas>=0.24.0 in /usr/local/lib/python3.7/dist-packages (from yfinance) (1.3.5)\n",
            "Requirement already satisfied: numpy>=1.15 in /usr/local/lib/python3.7/dist-packages (from yfinance) (1.21.6)\n",
            "Requirement already satisfied: appdirs>=1.4.4 in /usr/local/lib/python3.7/dist-packages (from yfinance) (1.4.4)\n",
            "Requirement already satisfied: multitasking>=0.0.7 in /usr/local/lib/python3.7/dist-packages (from yfinance) (0.0.11)\n",
            "Requirement already satisfied: lxml>=4.5.1 in /usr/local/lib/python3.7/dist-packages (from yfinance) (4.9.1)\n",
            "Requirement already satisfied: python-dateutil>=2.7.3 in /usr/local/lib/python3.7/dist-packages (from pandas>=0.24.0->yfinance) (2.8.2)\n",
            "Requirement already satisfied: pytz>=2017.3 in /usr/local/lib/python3.7/dist-packages (from pandas>=0.24.0->yfinance) (2022.6)\n",
            "Requirement already satisfied: six>=1.5 in /usr/local/lib/python3.7/dist-packages (from python-dateutil>=2.7.3->pandas>=0.24.0->yfinance) (1.15.0)\n",
            "Requirement already satisfied: idna<4,>=2.5 in /usr/local/lib/python3.7/dist-packages (from requests>=2.26->yfinance) (2.10)\n",
            "Requirement already satisfied: urllib3<1.27,>=1.21.1 in /usr/local/lib/python3.7/dist-packages (from requests>=2.26->yfinance) (1.24.3)\n",
            "Requirement already satisfied: charset-normalizer<3,>=2 in /usr/local/lib/python3.7/dist-packages (from requests>=2.26->yfinance) (2.1.1)\n",
            "Requirement already satisfied: certifi>=2017.4.17 in /usr/local/lib/python3.7/dist-packages (from requests>=2.26->yfinance) (2022.9.24)\n"
          ]
        }
      ],
      "source": [
        "!pip install yfinance"
      ]
    },
    {
      "cell_type": "code",
      "source": [
        "import yfinance as yf\n",
        "apple = yf.Ticker('AAPL')\n",
        "\n",
        "apple.actions\n",
        "\n",
        "hist=apple.history(period=\"1y\")\n",
        "hist=hist.reset_index()\n",
        "hist.head()"
      ],
      "metadata": {
        "colab": {
          "base_uri": "https://localhost:8080/",
          "height": 206
        },
        "id": "ompslopIB6n2",
        "outputId": "48d901e5-f941-4279-fa5f-86857119f70b"
      },
      "execution_count": 156,
      "outputs": [
        {
          "output_type": "execute_result",
          "data": {
            "text/plain": [
              "                       Date        Open        High         Low       Close  \\\n",
              "0 2021-11-22 00:00:00-05:00  160.747061  164.743869  160.070993  160.090881   \n",
              "1 2021-11-23 00:00:00-05:00  160.190287  160.866371  158.142177  160.478622   \n",
              "2 2021-11-24 00:00:00-05:00  159.822434  161.204412  158.718838  161.005569   \n",
              "3 2021-11-26 00:00:00-05:00  158.649250  159.524162  155.457766  155.905167   \n",
              "4 2021-11-29 00:00:00-05:00  158.450379  160.259884  157.873723  159.315369   \n",
              "\n",
              "      Volume  Dividends  Stock Splits  \n",
              "0  117467900        0.0             0  \n",
              "1   96041900        0.0             0  \n",
              "2   69463600        0.0             0  \n",
              "3   76959800        0.0             0  \n",
              "4   88748200        0.0             0  "
            ],
            "text/html": [
              "\n",
              "  <div id=\"df-6f793360-eacf-4d7a-bc56-9b945126ea93\">\n",
              "    <div class=\"colab-df-container\">\n",
              "      <div>\n",
              "<style scoped>\n",
              "    .dataframe tbody tr th:only-of-type {\n",
              "        vertical-align: middle;\n",
              "    }\n",
              "\n",
              "    .dataframe tbody tr th {\n",
              "        vertical-align: top;\n",
              "    }\n",
              "\n",
              "    .dataframe thead th {\n",
              "        text-align: right;\n",
              "    }\n",
              "</style>\n",
              "<table border=\"1\" class=\"dataframe\">\n",
              "  <thead>\n",
              "    <tr style=\"text-align: right;\">\n",
              "      <th></th>\n",
              "      <th>Date</th>\n",
              "      <th>Open</th>\n",
              "      <th>High</th>\n",
              "      <th>Low</th>\n",
              "      <th>Close</th>\n",
              "      <th>Volume</th>\n",
              "      <th>Dividends</th>\n",
              "      <th>Stock Splits</th>\n",
              "    </tr>\n",
              "  </thead>\n",
              "  <tbody>\n",
              "    <tr>\n",
              "      <th>0</th>\n",
              "      <td>2021-11-22 00:00:00-05:00</td>\n",
              "      <td>160.747061</td>\n",
              "      <td>164.743869</td>\n",
              "      <td>160.070993</td>\n",
              "      <td>160.090881</td>\n",
              "      <td>117467900</td>\n",
              "      <td>0.0</td>\n",
              "      <td>0</td>\n",
              "    </tr>\n",
              "    <tr>\n",
              "      <th>1</th>\n",
              "      <td>2021-11-23 00:00:00-05:00</td>\n",
              "      <td>160.190287</td>\n",
              "      <td>160.866371</td>\n",
              "      <td>158.142177</td>\n",
              "      <td>160.478622</td>\n",
              "      <td>96041900</td>\n",
              "      <td>0.0</td>\n",
              "      <td>0</td>\n",
              "    </tr>\n",
              "    <tr>\n",
              "      <th>2</th>\n",
              "      <td>2021-11-24 00:00:00-05:00</td>\n",
              "      <td>159.822434</td>\n",
              "      <td>161.204412</td>\n",
              "      <td>158.718838</td>\n",
              "      <td>161.005569</td>\n",
              "      <td>69463600</td>\n",
              "      <td>0.0</td>\n",
              "      <td>0</td>\n",
              "    </tr>\n",
              "    <tr>\n",
              "      <th>3</th>\n",
              "      <td>2021-11-26 00:00:00-05:00</td>\n",
              "      <td>158.649250</td>\n",
              "      <td>159.524162</td>\n",
              "      <td>155.457766</td>\n",
              "      <td>155.905167</td>\n",
              "      <td>76959800</td>\n",
              "      <td>0.0</td>\n",
              "      <td>0</td>\n",
              "    </tr>\n",
              "    <tr>\n",
              "      <th>4</th>\n",
              "      <td>2021-11-29 00:00:00-05:00</td>\n",
              "      <td>158.450379</td>\n",
              "      <td>160.259884</td>\n",
              "      <td>157.873723</td>\n",
              "      <td>159.315369</td>\n",
              "      <td>88748200</td>\n",
              "      <td>0.0</td>\n",
              "      <td>0</td>\n",
              "    </tr>\n",
              "  </tbody>\n",
              "</table>\n",
              "</div>\n",
              "      <button class=\"colab-df-convert\" onclick=\"convertToInteractive('df-6f793360-eacf-4d7a-bc56-9b945126ea93')\"\n",
              "              title=\"Convert this dataframe to an interactive table.\"\n",
              "              style=\"display:none;\">\n",
              "        \n",
              "  <svg xmlns=\"http://www.w3.org/2000/svg\" height=\"24px\"viewBox=\"0 0 24 24\"\n",
              "       width=\"24px\">\n",
              "    <path d=\"M0 0h24v24H0V0z\" fill=\"none\"/>\n",
              "    <path d=\"M18.56 5.44l.94 2.06.94-2.06 2.06-.94-2.06-.94-.94-2.06-.94 2.06-2.06.94zm-11 1L8.5 8.5l.94-2.06 2.06-.94-2.06-.94L8.5 2.5l-.94 2.06-2.06.94zm10 10l.94 2.06.94-2.06 2.06-.94-2.06-.94-.94-2.06-.94 2.06-2.06.94z\"/><path d=\"M17.41 7.96l-1.37-1.37c-.4-.4-.92-.59-1.43-.59-.52 0-1.04.2-1.43.59L10.3 9.45l-7.72 7.72c-.78.78-.78 2.05 0 2.83L4 21.41c.39.39.9.59 1.41.59.51 0 1.02-.2 1.41-.59l7.78-7.78 2.81-2.81c.8-.78.8-2.07 0-2.86zM5.41 20L4 18.59l7.72-7.72 1.47 1.35L5.41 20z\"/>\n",
              "  </svg>\n",
              "      </button>\n",
              "      \n",
              "  <style>\n",
              "    .colab-df-container {\n",
              "      display:flex;\n",
              "      flex-wrap:wrap;\n",
              "      gap: 12px;\n",
              "    }\n",
              "\n",
              "    .colab-df-convert {\n",
              "      background-color: #E8F0FE;\n",
              "      border: none;\n",
              "      border-radius: 50%;\n",
              "      cursor: pointer;\n",
              "      display: none;\n",
              "      fill: #1967D2;\n",
              "      height: 32px;\n",
              "      padding: 0 0 0 0;\n",
              "      width: 32px;\n",
              "    }\n",
              "\n",
              "    .colab-df-convert:hover {\n",
              "      background-color: #E2EBFA;\n",
              "      box-shadow: 0px 1px 2px rgba(60, 64, 67, 0.3), 0px 1px 3px 1px rgba(60, 64, 67, 0.15);\n",
              "      fill: #174EA6;\n",
              "    }\n",
              "\n",
              "    [theme=dark] .colab-df-convert {\n",
              "      background-color: #3B4455;\n",
              "      fill: #D2E3FC;\n",
              "    }\n",
              "\n",
              "    [theme=dark] .colab-df-convert:hover {\n",
              "      background-color: #434B5C;\n",
              "      box-shadow: 0px 1px 3px 1px rgba(0, 0, 0, 0.15);\n",
              "      filter: drop-shadow(0px 1px 2px rgba(0, 0, 0, 0.3));\n",
              "      fill: #FFFFFF;\n",
              "    }\n",
              "  </style>\n",
              "\n",
              "      <script>\n",
              "        const buttonEl =\n",
              "          document.querySelector('#df-6f793360-eacf-4d7a-bc56-9b945126ea93 button.colab-df-convert');\n",
              "        buttonEl.style.display =\n",
              "          google.colab.kernel.accessAllowed ? 'block' : 'none';\n",
              "\n",
              "        async function convertToInteractive(key) {\n",
              "          const element = document.querySelector('#df-6f793360-eacf-4d7a-bc56-9b945126ea93');\n",
              "          const dataTable =\n",
              "            await google.colab.kernel.invokeFunction('convertToInteractive',\n",
              "                                                     [key], {});\n",
              "          if (!dataTable) return;\n",
              "\n",
              "          const docLinkHtml = 'Like what you see? Visit the ' +\n",
              "            '<a target=\"_blank\" href=https://colab.research.google.com/notebooks/data_table.ipynb>data table notebook</a>'\n",
              "            + ' to learn more about interactive tables.';\n",
              "          element.innerHTML = '';\n",
              "          dataTable['output_type'] = 'display_data';\n",
              "          await google.colab.output.renderOutput(dataTable, element);\n",
              "          const docLink = document.createElement('div');\n",
              "          docLink.innerHTML = docLinkHtml;\n",
              "          element.appendChild(docLink);\n",
              "        }\n",
              "      </script>\n",
              "    </div>\n",
              "  </div>\n",
              "  "
            ]
          },
          "metadata": {},
          "execution_count": 156
        }
      ]
    },
    {
      "cell_type": "code",
      "source": [
        "hist[[\"Close\",\"Volume\",\"Date\"]]"
      ],
      "metadata": {
        "colab": {
          "base_uri": "https://localhost:8080/",
          "height": 423
        },
        "id": "komTLD10ClBO",
        "outputId": "55054f39-12d7-4438-b234-8164458f5c1e"
      },
      "execution_count": 157,
      "outputs": [
        {
          "output_type": "execute_result",
          "data": {
            "text/plain": [
              "          Close     Volume                      Date\n",
              "0    160.090881  117467900 2021-11-22 00:00:00-05:00\n",
              "1    160.478622   96041900 2021-11-23 00:00:00-05:00\n",
              "2    161.005569   69463600 2021-11-24 00:00:00-05:00\n",
              "3    155.905167   76959800 2021-11-26 00:00:00-05:00\n",
              "4    159.315369   88748200 2021-11-29 00:00:00-05:00\n",
              "..          ...        ...                       ...\n",
              "247  150.039993   89868300 2022-11-15 00:00:00-05:00\n",
              "248  148.789993   64218300 2022-11-16 00:00:00-05:00\n",
              "249  150.720001   80389400 2022-11-17 00:00:00-05:00\n",
              "250  151.289993   74794600 2022-11-18 00:00:00-05:00\n",
              "251  148.009995   58646900 2022-11-21 00:00:00-05:00\n",
              "\n",
              "[252 rows x 3 columns]"
            ],
            "text/html": [
              "\n",
              "  <div id=\"df-4af05882-da30-43cd-8433-45bf402145b0\">\n",
              "    <div class=\"colab-df-container\">\n",
              "      <div>\n",
              "<style scoped>\n",
              "    .dataframe tbody tr th:only-of-type {\n",
              "        vertical-align: middle;\n",
              "    }\n",
              "\n",
              "    .dataframe tbody tr th {\n",
              "        vertical-align: top;\n",
              "    }\n",
              "\n",
              "    .dataframe thead th {\n",
              "        text-align: right;\n",
              "    }\n",
              "</style>\n",
              "<table border=\"1\" class=\"dataframe\">\n",
              "  <thead>\n",
              "    <tr style=\"text-align: right;\">\n",
              "      <th></th>\n",
              "      <th>Close</th>\n",
              "      <th>Volume</th>\n",
              "      <th>Date</th>\n",
              "    </tr>\n",
              "  </thead>\n",
              "  <tbody>\n",
              "    <tr>\n",
              "      <th>0</th>\n",
              "      <td>160.090881</td>\n",
              "      <td>117467900</td>\n",
              "      <td>2021-11-22 00:00:00-05:00</td>\n",
              "    </tr>\n",
              "    <tr>\n",
              "      <th>1</th>\n",
              "      <td>160.478622</td>\n",
              "      <td>96041900</td>\n",
              "      <td>2021-11-23 00:00:00-05:00</td>\n",
              "    </tr>\n",
              "    <tr>\n",
              "      <th>2</th>\n",
              "      <td>161.005569</td>\n",
              "      <td>69463600</td>\n",
              "      <td>2021-11-24 00:00:00-05:00</td>\n",
              "    </tr>\n",
              "    <tr>\n",
              "      <th>3</th>\n",
              "      <td>155.905167</td>\n",
              "      <td>76959800</td>\n",
              "      <td>2021-11-26 00:00:00-05:00</td>\n",
              "    </tr>\n",
              "    <tr>\n",
              "      <th>4</th>\n",
              "      <td>159.315369</td>\n",
              "      <td>88748200</td>\n",
              "      <td>2021-11-29 00:00:00-05:00</td>\n",
              "    </tr>\n",
              "    <tr>\n",
              "      <th>...</th>\n",
              "      <td>...</td>\n",
              "      <td>...</td>\n",
              "      <td>...</td>\n",
              "    </tr>\n",
              "    <tr>\n",
              "      <th>247</th>\n",
              "      <td>150.039993</td>\n",
              "      <td>89868300</td>\n",
              "      <td>2022-11-15 00:00:00-05:00</td>\n",
              "    </tr>\n",
              "    <tr>\n",
              "      <th>248</th>\n",
              "      <td>148.789993</td>\n",
              "      <td>64218300</td>\n",
              "      <td>2022-11-16 00:00:00-05:00</td>\n",
              "    </tr>\n",
              "    <tr>\n",
              "      <th>249</th>\n",
              "      <td>150.720001</td>\n",
              "      <td>80389400</td>\n",
              "      <td>2022-11-17 00:00:00-05:00</td>\n",
              "    </tr>\n",
              "    <tr>\n",
              "      <th>250</th>\n",
              "      <td>151.289993</td>\n",
              "      <td>74794600</td>\n",
              "      <td>2022-11-18 00:00:00-05:00</td>\n",
              "    </tr>\n",
              "    <tr>\n",
              "      <th>251</th>\n",
              "      <td>148.009995</td>\n",
              "      <td>58646900</td>\n",
              "      <td>2022-11-21 00:00:00-05:00</td>\n",
              "    </tr>\n",
              "  </tbody>\n",
              "</table>\n",
              "<p>252 rows × 3 columns</p>\n",
              "</div>\n",
              "      <button class=\"colab-df-convert\" onclick=\"convertToInteractive('df-4af05882-da30-43cd-8433-45bf402145b0')\"\n",
              "              title=\"Convert this dataframe to an interactive table.\"\n",
              "              style=\"display:none;\">\n",
              "        \n",
              "  <svg xmlns=\"http://www.w3.org/2000/svg\" height=\"24px\"viewBox=\"0 0 24 24\"\n",
              "       width=\"24px\">\n",
              "    <path d=\"M0 0h24v24H0V0z\" fill=\"none\"/>\n",
              "    <path d=\"M18.56 5.44l.94 2.06.94-2.06 2.06-.94-2.06-.94-.94-2.06-.94 2.06-2.06.94zm-11 1L8.5 8.5l.94-2.06 2.06-.94-2.06-.94L8.5 2.5l-.94 2.06-2.06.94zm10 10l.94 2.06.94-2.06 2.06-.94-2.06-.94-.94-2.06-.94 2.06-2.06.94z\"/><path d=\"M17.41 7.96l-1.37-1.37c-.4-.4-.92-.59-1.43-.59-.52 0-1.04.2-1.43.59L10.3 9.45l-7.72 7.72c-.78.78-.78 2.05 0 2.83L4 21.41c.39.39.9.59 1.41.59.51 0 1.02-.2 1.41-.59l7.78-7.78 2.81-2.81c.8-.78.8-2.07 0-2.86zM5.41 20L4 18.59l7.72-7.72 1.47 1.35L5.41 20z\"/>\n",
              "  </svg>\n",
              "      </button>\n",
              "      \n",
              "  <style>\n",
              "    .colab-df-container {\n",
              "      display:flex;\n",
              "      flex-wrap:wrap;\n",
              "      gap: 12px;\n",
              "    }\n",
              "\n",
              "    .colab-df-convert {\n",
              "      background-color: #E8F0FE;\n",
              "      border: none;\n",
              "      border-radius: 50%;\n",
              "      cursor: pointer;\n",
              "      display: none;\n",
              "      fill: #1967D2;\n",
              "      height: 32px;\n",
              "      padding: 0 0 0 0;\n",
              "      width: 32px;\n",
              "    }\n",
              "\n",
              "    .colab-df-convert:hover {\n",
              "      background-color: #E2EBFA;\n",
              "      box-shadow: 0px 1px 2px rgba(60, 64, 67, 0.3), 0px 1px 3px 1px rgba(60, 64, 67, 0.15);\n",
              "      fill: #174EA6;\n",
              "    }\n",
              "\n",
              "    [theme=dark] .colab-df-convert {\n",
              "      background-color: #3B4455;\n",
              "      fill: #D2E3FC;\n",
              "    }\n",
              "\n",
              "    [theme=dark] .colab-df-convert:hover {\n",
              "      background-color: #434B5C;\n",
              "      box-shadow: 0px 1px 3px 1px rgba(0, 0, 0, 0.15);\n",
              "      filter: drop-shadow(0px 1px 2px rgba(0, 0, 0, 0.3));\n",
              "      fill: #FFFFFF;\n",
              "    }\n",
              "  </style>\n",
              "\n",
              "      <script>\n",
              "        const buttonEl =\n",
              "          document.querySelector('#df-4af05882-da30-43cd-8433-45bf402145b0 button.colab-df-convert');\n",
              "        buttonEl.style.display =\n",
              "          google.colab.kernel.accessAllowed ? 'block' : 'none';\n",
              "\n",
              "        async function convertToInteractive(key) {\n",
              "          const element = document.querySelector('#df-4af05882-da30-43cd-8433-45bf402145b0');\n",
              "          const dataTable =\n",
              "            await google.colab.kernel.invokeFunction('convertToInteractive',\n",
              "                                                     [key], {});\n",
              "          if (!dataTable) return;\n",
              "\n",
              "          const docLinkHtml = 'Like what you see? Visit the ' +\n",
              "            '<a target=\"_blank\" href=https://colab.research.google.com/notebooks/data_table.ipynb>data table notebook</a>'\n",
              "            + ' to learn more about interactive tables.';\n",
              "          element.innerHTML = '';\n",
              "          dataTable['output_type'] = 'display_data';\n",
              "          await google.colab.output.renderOutput(dataTable, element);\n",
              "          const docLink = document.createElement('div');\n",
              "          docLink.innerHTML = docLinkHtml;\n",
              "          element.appendChild(docLink);\n",
              "        }\n",
              "      </script>\n",
              "    </div>\n",
              "  </div>\n",
              "  "
            ]
          },
          "metadata": {},
          "execution_count": 157
        }
      ]
    },
    {
      "cell_type": "code",
      "source": [
        "import matplotlib.pyplot as plt\n",
        "plt.plot(hist[[\"Volume\"]].iloc[:, 0])"
      ],
      "metadata": {
        "colab": {
          "base_uri": "https://localhost:8080/",
          "height": 293
        },
        "id": "7qtkIhROxHfU",
        "outputId": "33af9245-ada8-416d-ff3a-4a62c6371390"
      },
      "execution_count": 158,
      "outputs": [
        {
          "output_type": "execute_result",
          "data": {
            "text/plain": [
              "[<matplotlib.lines.Line2D at 0x7f0d4ac77850>]"
            ]
          },
          "metadata": {},
          "execution_count": 158
        },
        {
          "output_type": "display_data",
          "data": {
            "text/plain": [
              "<Figure size 432x288 with 1 Axes>"
            ],
            "image/png": "[encoded data removed]"
          },
          "metadata": {
            "needs_background": "light"
          }
        }
      ]
    },
    {
      "cell_type": "code",
      "source": [
        "plt.boxplot(data=hist,x=\"Volume\")"
      ],
      "metadata": {
        "colab": {
          "base_uri": "https://localhost:8080/",
          "height": 415
        },
        "id": "wzLhzvyl2mu_",
        "outputId": "ffcea14c-5da4-4fad-c822-78cf7c4e999a"
      },
      "execution_count": 159,
      "outputs": [
        {
          "output_type": "execute_result",
          "data": {
            "text/plain": [
              "{'whiskers': [<matplotlib.lines.Line2D at 0x7f0d4934abd0>,\n",
              "  <matplotlib.lines.Line2D at 0x7f0d4934f150>],\n",
              " 'caps': [<matplotlib.lines.Line2D at 0x7f0d4934f690>,\n",
              "  <matplotlib.lines.Line2D at 0x7f0d4934fbd0>],\n",
              " 'boxes': [<matplotlib.lines.Line2D at 0x7f0d4934a650>],\n",
              " 'medians': [<matplotlib.lines.Line2D at 0x7f0d49358190>],\n",
              " 'fliers': [<matplotlib.lines.Line2D at 0x7f0d493586d0>],\n",
              " 'means': []}"
            ]
          },
          "metadata": {},
          "execution_count": 159
        },
        {
          "output_type": "display_data",
          "data": {
            "text/plain": [
              "<Figure size 432x288 with 1 Axes>"
            ],
            "image/png": "[encoded data removed]"
          },
          "metadata": {
            "needs_background": "light"
          }
        }
      ]
    },
    {
      "cell_type": "code",
      "source": [
        "amt = hist[[\"Volume\"]].iloc[:, 0]\n",
        "amt.describe().astype('int')\n"
      ],
      "metadata": {
        "colab": {
          "base_uri": "https://localhost:8080/"
        },
        "id": "UrZXwaPbx9qn",
        "outputId": "4786f12d-0d9c-4c70-b076-ab9a25970dbb"
      },
      "execution_count": 160,
      "outputs": [
        {
          "output_type": "execute_result",
          "data": {
            "text/plain": [
              "count          252\n",
              "mean      91457504\n",
              "std       25857028\n",
              "min       51218200\n",
              "25%       73976925\n",
              "50%       86648150\n",
              "75%      103216575\n",
              "max      195432700\n",
              "Name: Volume, dtype: int64"
            ]
          },
          "metadata": {},
          "execution_count": 160
        }
      ]
    },
    {
      "cell_type": "code",
      "source": [
        "import pandas as pd\n",
        "import numpy as np\n",
        "\n",
        "k = []\n",
        "df = []\n",
        "k_max = []\n",
        "\n",
        "V0=hist[\"Volume\"].mean()*(len(hist)/4)\n",
        "print(V0)\n",
        "data = hist[[\"Close\",\"Volume\",\"Date\"]]\n",
        "v=0\n",
        "a=0\n",
        "b=0\n",
        "c=0\n",
        "\n",
        "for i in range(0, data.shape[0]):\n",
        "  v=0\n",
        "  for j in range(i,0-1,-1):\n",
        "    if(v < V0):\n",
        "      a=a+1\n",
        "      v=v+data.iloc[j, 1]\n",
        "      df.append([data.iloc[i, 0]-data.iloc[j, 0],i,j,v])\n",
        "      k.append(data.iloc[i, 0]-data.iloc[j, 0])\n",
        "    else:\n",
        "      break;\n",
        "  df1=np.asarray(df)\n",
        "  if (df1.shape[0]==0):\n",
        "    c = np.max(df1[b:a])\n",
        "  else:  \n",
        "    c = np.max(df1[b:a,0])\n",
        "  k_max.append(c)\n",
        "  b=a\n",
        "  \n",
        "df = np.asarray(df)\n",
        "m = np.argmax(k)\n",
        "print(pd.DataFrame(df))\n",
        "print(max(k))\n",
        "print(df[m,1:].astype(int))"
      ],
      "metadata": {
        "colab": {
          "base_uri": "https://localhost:8080/"
        },
        "id": "hA0wFUg8CwLL",
        "outputId": "de40dd3a-de94-44af-ff27-0ca092c306ae"
      },
      "execution_count": 161,
      "outputs": [
        {
          "output_type": "stream",
          "name": "stdout",
          "text": [
            "5761822800.0\n",
            "               0      1      2             3\n",
            "0       0.000000    0.0    0.0  1.174679e+08\n",
            "1       0.000000    1.0    1.0  9.604190e+07\n",
            "2       0.387741    1.0    0.0  2.135098e+08\n",
            "3       0.000000    2.0    2.0  6.946360e+07\n",
            "4       0.526947    2.0    1.0  1.655055e+08\n",
            "...          ...    ...    ...           ...\n",
            "14363 -15.339020  251.0  191.0  5.585904e+09\n",
            "14364 -21.738419  251.0  190.0  5.637122e+09\n",
            "14365 -19.242554  251.0  189.0  5.690964e+09\n",
            "14366 -18.943054  251.0  188.0  5.745111e+09\n",
            "14367 -19.282501  251.0  187.0  5.814138e+09\n",
            "\n",
            "[14368 rows x 4 columns]\n",
            "44.596435546875\n",
            "[       184        142 3139425400]\n"
          ]
        }
      ]
    },
    {
      "cell_type": "code",
      "source": [
        "k_max = np.asarray(k_max)\n",
        "print(pd.DataFrame(k_max))  #n=0~251的所有最大價差"
      ],
      "metadata": {
        "colab": {
          "base_uri": "https://localhost:8080/"
        },
        "id": "mV4tI_IS5i7l",
        "outputId": "897c2602-608b-4cf3-bea9-67a510929695"
      },
      "execution_count": 162,
      "outputs": [
        {
          "output_type": "stream",
          "name": "stdout",
          "text": [
            "             0\n",
            "0     0.000000\n",
            "1     0.387741\n",
            "2     0.914688\n",
            "3     0.000000\n",
            "4     3.410202\n",
            "..         ...\n",
            "247  15.169998\n",
            "248  13.919998\n",
            "249  15.850006\n",
            "250  16.419998\n",
            "251  13.139999\n",
            "\n",
            "[252 rows x 1 columns]\n"
          ]
        }
      ]
    },
    {
      "cell_type": "code",
      "source": [
        "a = df[m,1].astype(int)\n",
        "b = df[m,2].astype(int)\n",
        "print(data.iloc[a,2]) #出售日期\n",
        "print(data.iloc[b,2]) #購買日期"
      ],
      "metadata": {
        "colab": {
          "base_uri": "https://localhost:8080/"
        },
        "id": "ikUr8VCIQYMh",
        "outputId": "3ba15c43-72d0-4b61-8283-3696a1919557"
      },
      "execution_count": 163,
      "outputs": [
        {
          "output_type": "stream",
          "name": "stdout",
          "text": [
            "2022-08-17 00:00:00-04:00\n",
            "2022-06-16 00:00:00-04:00\n"
          ]
        }
      ]
    },
    {
      "cell_type": "code",
      "source": [
        "plt.plot(k_max)"
      ],
      "metadata": {
        "colab": {
          "base_uri": "https://localhost:8080/",
          "height": 282
        },
        "id": "BjcUYuJ1K7sC",
        "outputId": "1d195c5a-f43c-4b26-e369-8f5a49156b52"
      },
      "execution_count": 166,
      "outputs": [
        {
          "output_type": "execute_result",
          "data": {
            "text/plain": [
              "[<matplotlib.lines.Line2D at 0x7f0d4931e910>]"
            ]
          },
          "metadata": {},
          "execution_count": 166
        },
        {
          "output_type": "display_data",
          "data": {
            "text/plain": [
              "<Figure size 432x288 with 1 Axes>"
            ],
            "image/png": "[encoded data removed]"
          },
          "metadata": {
            "needs_background": "light"
          }
        }
      ]
    },
    {
      "cell_type": "code",
      "source": [
        "def Y(Data):\n",
        "  df_dp = pd.DataFrame(Data)\n",
        "  df_dp = df_dp.iloc[:,0]\n",
        "  m = float(df_dp.mean())\n",
        "  se = float(df_dp.std() / len(hist)**0.5)\n",
        "\n",
        "  return (m-1.96*se,m,m+1.96*se)\n",
        "\n",
        "Y(Data = k_max)"
      ],
      "metadata": {
        "colab": {
          "base_uri": "https://localhost:8080/"
        },
        "id": "c5SABskREixe",
        "outputId": "9cdbd7c7-870c-4fb6-f427-5b61fbb5b7e9"
      },
      "execution_count": 167,
      "outputs": [
        {
          "output_type": "execute_result",
          "data": {
            "text/plain": [
              "(13.490195937640786, 14.79560070946103, 16.101005481281277)"
            ]
          },
          "metadata": {},
          "execution_count": 167
        }
      ]
    }
  ]
}